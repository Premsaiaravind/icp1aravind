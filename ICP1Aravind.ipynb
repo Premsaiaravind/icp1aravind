{
 "cells": [
  {
   "cell_type": "code",
   "execution_count": 6,
   "id": "f7a87c87",
   "metadata": {},
   "outputs": [
    {
     "name": "stdout",
     "output_type": "stream",
     "text": [
      "Enter str: aravind\n",
      "dnira\n"
     ]
    }
   ],
   "source": [
    "# Input the string as a list of characters\n",
    "input_string = list(input(\"Enter str: \"))\n",
    "\n",
    "# Delete at least 2 characters\n",
    "if len(input_string) >= 2:\n",
    "    del input_string[2:4]  # Deleting characters at index 2 and 3\n",
    "\n",
    "# Reverse the resultant string\n",
    "resultant_string = ''.join(input_string[::-1])\n",
    "\n",
    "# Print the reversed string\n",
    "print(resultant_string)"
   ]
  },
  {
   "cell_type": "code",
   "execution_count": 7,
   "id": "746663e4",
   "metadata": {},
   "outputs": [
    {
     "name": "stdout",
     "output_type": "stream",
     "text": [
      "first number: 7\n",
      "second number: 5\n",
      "Addition: 12.0\n",
      "Subtraction: 2.0\n",
      "Multiplication: 35.0\n",
      "Division: 1.4\n"
     ]
    }
   ],
   "source": [
    "# Taking two numbers from the user\n",
    "num1 = float(input(\"first number: \"))\n",
    "num2 = float(input(\"second number: \"))\n",
    "\n",
    "# Perform arithmetic operations\n",
    "addition = num1 + num2\n",
    "subtraction = num1 - num2\n",
    "multiplication = num1 * num2\n",
    "division = num1 / num2\n",
    "\n",
    "# Print the results of arithmetic operations\n",
    "print(\"Addition:\", addition)\n",
    "print(\"Subtraction:\", subtraction)\n",
    "print(\"Multiplication:\", multiplication)\n",
    "print(\"Division:\", division)"
   ]
  },
  {
   "cell_type": "code",
   "execution_count": 8,
   "id": "9ff2f341",
   "metadata": {},
   "outputs": [
    {
     "name": "stdout",
     "output_type": "stream",
     "text": [
      "user sentence: aravind likes python as python is new coding language\n",
      "aravind likes pythons as pythons is new coding language\n"
     ]
    }
   ],
   "source": [
    "# Accept a sentence from the user\n",
    "input_sentence = input(\"user sentence: \")\n",
    "\n",
    "# Replace 'python' with 'pythons'\n",
    "output_sentence = input_sentence.replace('python', 'pythons')\n",
    "\n",
    "# Print the modified sentence\n",
    "print(output_sentence)"
   ]
  },
  {
   "cell_type": "code",
   "execution_count": 9,
   "id": "d560f320",
   "metadata": {},
   "outputs": [
    {
     "name": "stdout",
     "output_type": "stream",
     "text": [
      "Class score: 55\n",
      "Letter Grade: F\n"
     ]
    }
   ],
   "source": [
    "# Input the class score from the user\n",
    "class_score = int(input(\"Class score: \"))\n",
    "\n",
    "# Determine the letter grade based on the score\n",
    "if class_score >= 90:\n",
    "    grade = \"A\"\n",
    "elif class_score >= 80:\n",
    "    grade = \"B\"\n",
    "elif class_score >= 70:\n",
    "    grade = \"C\"\n",
    "elif class_score >= 60:\n",
    "    grade = \"D\"\n",
    "else:\n",
    "    grade = \"F\"\n",
    "\n",
    "# Print the letter grade\n",
    "print(\"Letter Grade:\", grade)"
   ]
  }
 ],
 "metadata": {
  "kernelspec": {
   "display_name": "Python 3 (ipykernel)",
   "language": "python",
   "name": "python3"
  },
  "language_info": {
   "codemirror_mode": {
    "name": "ipython",
    "version": 3
   },
   "file_extension": ".py",
   "mimetype": "text/x-python",
   "name": "python",
   "nbconvert_exporter": "python",
   "pygments_lexer": "ipython3",
   "version": "3.9.13"
  }
 },
 "nbformat": 4,
 "nbformat_minor": 5
}
